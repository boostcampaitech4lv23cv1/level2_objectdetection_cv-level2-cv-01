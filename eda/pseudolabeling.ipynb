{
 "cells": [
  {
   "cell_type": "code",
   "execution_count": 33,
   "metadata": {},
   "outputs": [],
   "source": [
    "import os\n",
    "import json\n",
    "\n",
    "import pandas as pd\n",
    "import numpy as np\n",
    "from tqdm import tqdm\n",
    "from copy import deepcopy\n"
   ]
  },
  {
   "cell_type": "code",
   "execution_count": 34,
   "metadata": {},
   "outputs": [
    {
     "data": {
      "text/html": [
       "<div>\n",
       "<style scoped>\n",
       "    .dataframe tbody tr th:only-of-type {\n",
       "        vertical-align: middle;\n",
       "    }\n",
       "\n",
       "    .dataframe tbody tr th {\n",
       "        vertical-align: top;\n",
       "    }\n",
       "\n",
       "    .dataframe thead th {\n",
       "        text-align: right;\n",
       "    }\n",
       "</style>\n",
       "<table border=\"1\" class=\"dataframe\">\n",
       "  <thead>\n",
       "    <tr style=\"text-align: right;\">\n",
       "      <th></th>\n",
       "      <th>PredictionString</th>\n",
       "      <th>image_id</th>\n",
       "    </tr>\n",
       "  </thead>\n",
       "  <tbody>\n",
       "    <tr>\n",
       "      <th>0</th>\n",
       "      <td>7 0.8889930248260498 216.75791931152344 51.973...</td>\n",
       "      <td>test/0000.jpg</td>\n",
       "    </tr>\n",
       "    <tr>\n",
       "      <th>1</th>\n",
       "      <td>5 0.6938202381134033 132.2281494140625 0.22078...</td>\n",
       "      <td>test/0001.jpg</td>\n",
       "    </tr>\n",
       "    <tr>\n",
       "      <th>2</th>\n",
       "      <td>1 0.8105384707450867 76.7972183227539 272.6375...</td>\n",
       "      <td>test/0002.jpg</td>\n",
       "    </tr>\n",
       "    <tr>\n",
       "      <th>3</th>\n",
       "      <td>9 0.7210465669631958 144.7139434814453 259.471...</td>\n",
       "      <td>test/0003.jpg</td>\n",
       "    </tr>\n",
       "    <tr>\n",
       "      <th>4</th>\n",
       "      <td>1 0.6025466124216715 195.54220581054688 255.07...</td>\n",
       "      <td>test/0004.jpg</td>\n",
       "    </tr>\n",
       "    <tr>\n",
       "      <th>...</th>\n",
       "      <td>...</td>\n",
       "      <td>...</td>\n",
       "    </tr>\n",
       "    <tr>\n",
       "      <th>4866</th>\n",
       "      <td>1 0.5896831671396892 293.3543701171875 348.683...</td>\n",
       "      <td>test/4866.jpg</td>\n",
       "    </tr>\n",
       "    <tr>\n",
       "      <th>4867</th>\n",
       "      <td>3 0.8107656240463257 414.9770812988281 319.381...</td>\n",
       "      <td>test/4867.jpg</td>\n",
       "    </tr>\n",
       "    <tr>\n",
       "      <th>4868</th>\n",
       "      <td>7 0.8208968639373779 115.30994415283203 453.55...</td>\n",
       "      <td>test/4868.jpg</td>\n",
       "    </tr>\n",
       "    <tr>\n",
       "      <th>4869</th>\n",
       "      <td>1 0.6532298922538757 842.8405151367188 0.37100...</td>\n",
       "      <td>test/4869.jpg</td>\n",
       "    </tr>\n",
       "    <tr>\n",
       "      <th>4870</th>\n",
       "      <td>4 0.8518366813659668 373.935302734375 202.8738...</td>\n",
       "      <td>test/4870.jpg</td>\n",
       "    </tr>\n",
       "  </tbody>\n",
       "</table>\n",
       "<p>4871 rows × 2 columns</p>\n",
       "</div>"
      ],
      "text/plain": [
       "                                       PredictionString       image_id\n",
       "0     7 0.8889930248260498 216.75791931152344 51.973...  test/0000.jpg\n",
       "1     5 0.6938202381134033 132.2281494140625 0.22078...  test/0001.jpg\n",
       "2     1 0.8105384707450867 76.7972183227539 272.6375...  test/0002.jpg\n",
       "3     9 0.7210465669631958 144.7139434814453 259.471...  test/0003.jpg\n",
       "4     1 0.6025466124216715 195.54220581054688 255.07...  test/0004.jpg\n",
       "...                                                 ...            ...\n",
       "4866  1 0.5896831671396892 293.3543701171875 348.683...  test/4866.jpg\n",
       "4867  3 0.8107656240463257 414.9770812988281 319.381...  test/4867.jpg\n",
       "4868  7 0.8208968639373779 115.30994415283203 453.55...  test/4868.jpg\n",
       "4869  1 0.6532298922538757 842.8405151367188 0.37100...  test/4869.jpg\n",
       "4870  4 0.8518366813659668 373.935302734375 202.8738...  test/4870.jpg\n",
       "\n",
       "[4871 rows x 2 columns]"
      ]
     },
     "execution_count": 34,
     "metadata": {},
     "output_type": "execute_result"
    }
   ],
   "source": [
    "file_name = 'result_yolov5_yolov7_swin_all_wopseudo_wbfensemble.csv'\n",
    "file_dir = '/opt/ml/' + file_name\n",
    "pseudo = pd.read_csv(file_dir)\n",
    "pseudo"
   ]
  },
  {
   "cell_type": "code",
   "execution_count": 35,
   "metadata": {},
   "outputs": [],
   "source": [
    "data_dir = '/opt/ml/dataset'\n",
    "test_json = json.load(open(os.path.join(data_dir,'test.json')))"
   ]
  },
  {
   "cell_type": "code",
   "execution_count": 36,
   "metadata": {},
   "outputs": [],
   "source": [
    "pseudo_json = deepcopy(test_json)\n",
    "pseudo_json['images'] = []"
   ]
  },
  {
   "cell_type": "code",
   "execution_count": 37,
   "metadata": {},
   "outputs": [
    {
     "data": {
      "text/plain": [
       "[]"
      ]
     },
     "execution_count": 37,
     "metadata": {},
     "output_type": "execute_result"
    }
   ],
   "source": [
    "pseudo_json['images']"
   ]
  },
  {
   "cell_type": "code",
   "execution_count": null,
   "metadata": {},
   "outputs": [],
   "source": [
    "thr = 0.6\n",
    "\n",
    "box_id=0\n",
    "for i in tqdm(range(4871)):\n",
    "\n",
    "    if type(pseudo['PredictionString'][i])==str: # pred가 없는 이미지는 무시\n",
    "        \n",
    "        for j in range(len(pseudo['PredictionString'][i].split(' '))//6):\n",
    "            o = pseudo['PredictionString'][i].split(' ')\n",
    "            id, score, xmin, ymin, xmax, ymax = map(float,o[6*j: 6*(j+1)])\n",
    "            \n",
    "            if score<thr:\n",
    "                continue\n",
    "\n",
    "            id, xmin, ymin, xmax, ymax = map(int, [id, xmin, ymin, xmax, ymax])\n",
    "            w = xmax - xmin\n",
    "            h = ymax - ymin\n",
    "            \n",
    "            info = dict()\n",
    "            info['image_id'] = i\n",
    "            info['category_id'] = id\n",
    "            info['area'] = w*h\n",
    "            info['bbox'] = [xmin, ymin, w, h]\n",
    "            info['iscrowd'] = 0 # 겹친 박스가 있는지 여부\n",
    "            info['id'] = box_id # 박스 id\n",
    "            box_id += 1\n",
    "            pseudo_json['annotations'].append(info)\n",
    "            pseudo_json['images'].append(test_json['images'][i])\n",
    "\n",
    "image_list = []\n",
    "for i in set([i['id'] for i in pseudo_json['images']]):\n",
    "    image_list.append(test_json['images'][i])\n",
    "pseudo_json['images'] = image_list"
   ]
  },
  {
   "cell_type": "code",
   "execution_count": 55,
   "metadata": {},
   "outputs": [],
   "source": [
    "with open(os.path.join(data_dir, f\"pseudo_final.json\"),'w') as f:\n",
    "        json.dump(pseudo_json, f, indent=4)"
   ]
  }
 ],
 "metadata": {
  "kernelspec": {
   "display_name": "Python 3.7.15 ('detection')",
   "language": "python",
   "name": "python3"
  },
  "language_info": {
   "codemirror_mode": {
    "name": "ipython",
    "version": 3
   },
   "file_extension": ".py",
   "mimetype": "text/x-python",
   "name": "python",
   "nbconvert_exporter": "python",
   "pygments_lexer": "ipython3",
   "version": "3.7.15"
  },
  "orig_nbformat": 4,
  "vscode": {
   "interpreter": {
    "hash": "b94c6de4bce9a87a354a5fa9998691adc0532adddb9d4140f5ba941d00b01fae"
   }
  }
 },
 "nbformat": 4,
 "nbformat_minor": 2
}
